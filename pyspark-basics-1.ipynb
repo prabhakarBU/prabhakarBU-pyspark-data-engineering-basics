{
 "cells": [
  {
   "cell_type": "code",
   "execution_count": 1,
   "id": "43a70fe3-f506-4715-819a-a6a828df2e99",
   "metadata": {},
   "outputs": [],
   "source": [
    "import pyspark\n",
    "from pyspark.sql import SparkSession"
   ]
  },
  {
   "cell_type": "code",
   "execution_count": 2,
   "id": "a2ae224d-e3c7-4b97-8447-b9f945c9a7cb",
   "metadata": {},
   "outputs": [],
   "source": [
    "spark=SparkSession.builder.appName('basics').getOrCreate()\n",
    "# spark\n",
    "# print(spark)\n",
    "# df_pyspark_basics_1=spark.read.csv('test1.csv')\n",
    "# df_pyspark_basics_1=spark.read.option('header','true').csv('test1.csv')\n",
    "# print(df_pyspark_basics_1)"
   ]
  },
  {
   "cell_type": "code",
   "execution_count": 3,
   "id": "29a8b734-2f2e-49b4-8ed1-bee577f642e5",
   "metadata": {},
   "outputs": [
    {
     "name": "stdout",
     "output_type": "stream",
     "text": [
      "DataFrame[Name: string, age: string, Experience: string, Salary: string]\n",
      "root\n",
      " |-- Name: string (nullable = true)\n",
      " |-- age: string (nullable = true)\n",
      " |-- Experience: string (nullable = true)\n",
      " |-- Salary: string (nullable = true)\n",
      "\n"
     ]
    }
   ],
   "source": [
    "df_pyspark_basics_1=spark.read.option('header','true').csv('test1.csv')\n",
    "print(df_pyspark_basics_1)\n",
    "type(df_pyspark_basics_1)\n",
    "df_pyspark_basics_1.printSchema()"
   ]
  }
 ],
 "metadata": {
  "kernelspec": {
   "display_name": "Python 3 (ipykernel)",
   "language": "python",
   "name": "python3"
  },
  "language_info": {
   "codemirror_mode": {
    "name": "ipython",
    "version": 3
   },
   "file_extension": ".py",
   "mimetype": "text/x-python",
   "name": "python",
   "nbconvert_exporter": "python",
   "pygments_lexer": "ipython3",
   "version": "3.11.7"
  }
 },
 "nbformat": 4,
 "nbformat_minor": 5
}
